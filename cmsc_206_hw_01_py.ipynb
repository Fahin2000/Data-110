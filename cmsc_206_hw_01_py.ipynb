{
  "nbformat": 4,
  "nbformat_minor": 0,
  "metadata": {
    "colab": {
      "provenance": [],
      "authorship_tag": "ABX9TyNpIc3wwEyvOUxh4ePlRYe5",
      "include_colab_link": true
    },
    "kernelspec": {
      "name": "python3",
      "display_name": "Python 3"
    },
    "language_info": {
      "name": "python"
    }
  },
  "cells": [
    {
      "cell_type": "markdown",
      "metadata": {
        "id": "view-in-github",
        "colab_type": "text"
      },
      "source": [
        "<a href=\"https://colab.research.google.com/github/Fahin2000/Data-110/blob/main/cmsc_206_hw_01_py.ipynb\" target=\"_parent\"><img src=\"https://colab.research.google.com/assets/colab-badge.svg\" alt=\"Open In Colab\"/></a>"
      ]
    },
    {
      "cell_type": "markdown",
      "source": [
        "Author: Fahin Afsany\n",
        "\n",
        "Task 01"
      ],
      "metadata": {
        "id": "8aQ32NHdO3va"
      }
    },
    {
      "cell_type": "code",
      "source": [
        "num1 = 10\n",
        "num2 = 15\n",
        "addition = num1+num2\n",
        "print(addition)"
      ],
      "metadata": {
        "colab": {
          "base_uri": "https://localhost:8080/"
        },
        "id": "OzeUwKwkO_ks",
        "outputId": "dcfe8785-af2e-48f6-9ba5-1fc48bd2d845"
      },
      "execution_count": null,
      "outputs": [
        {
          "output_type": "stream",
          "name": "stdout",
          "text": [
            "25\n"
          ]
        }
      ]
    },
    {
      "cell_type": "code",
      "source": [
        "substraction= num2-num1\n",
        "print(substraction)"
      ],
      "metadata": {
        "colab": {
          "base_uri": "https://localhost:8080/"
        },
        "id": "5pVho_LhPirs",
        "outputId": "1cbc772a-2f18-4f26-8aaf-e1dd68a32ba4"
      },
      "execution_count": null,
      "outputs": [
        {
          "output_type": "stream",
          "name": "stdout",
          "text": [
            "5\n"
          ]
        }
      ]
    },
    {
      "cell_type": "code",
      "source": [
        "multiplication= num1*num2\n",
        "print(multiplication)"
      ],
      "metadata": {
        "colab": {
          "base_uri": "https://localhost:8080/"
        },
        "id": "9pQczqmsP6qL",
        "outputId": "08cb069a-9496-4bc0-a69b-b796c1a7fc79"
      },
      "execution_count": null,
      "outputs": [
        {
          "output_type": "stream",
          "name": "stdout",
          "text": [
            "150\n"
          ]
        }
      ]
    },
    {
      "cell_type": "code",
      "source": [
        "division= num1/num2\n",
        "print(division)"
      ],
      "metadata": {
        "colab": {
          "base_uri": "https://localhost:8080/"
        },
        "id": "zJWXJ6T-QIte",
        "outputId": "ff9e6d87-dae7-4835-a0cf-65e93387b6ad"
      },
      "execution_count": null,
      "outputs": [
        {
          "output_type": "stream",
          "name": "stdout",
          "text": [
            "0.6666666666666666\n"
          ]
        }
      ]
    },
    {
      "cell_type": "code",
      "source": [
        "num3= 20\n",
        "extra_addition= addition+num3\n",
        "print(extra_addition)"
      ],
      "metadata": {
        "colab": {
          "base_uri": "https://localhost:8080/"
        },
        "id": "o-kaIc4PQoFG",
        "outputId": "128940ba-2ae2-4b2b-c3c2-9f64e73c458d"
      },
      "execution_count": null,
      "outputs": [
        {
          "output_type": "stream",
          "name": "stdout",
          "text": [
            "45\n"
          ]
        }
      ]
    },
    {
      "cell_type": "code",
      "source": [
        "extra_multiplication= multiplication*num3\n",
        "print(extra_multiplication)"
      ],
      "metadata": {
        "colab": {
          "base_uri": "https://localhost:8080/"
        },
        "id": "71zgrWR3Q3l1",
        "outputId": "09ac765a-2db0-442d-80ca-5e66cd27bc57"
      },
      "execution_count": null,
      "outputs": [
        {
          "output_type": "stream",
          "name": "stdout",
          "text": [
            "3000\n"
          ]
        }
      ]
    },
    {
      "cell_type": "markdown",
      "source": [
        "Discussion: The extra_addition and extra_multiplication are added to this code to perform additional arithmetic operations with a third number. The extension helps the user to solve more complex and extended operations."
      ],
      "metadata": {
        "id": "pFOqiKSORVim"
      }
    },
    {
      "cell_type": "markdown",
      "source": [
        "Author: Fahin Afsany\n",
        "\n",
        "Task 02"
      ],
      "metadata": {
        "id": "q8fgbhELT-D1"
      }
    },
    {
      "cell_type": "code",
      "source": [
        "celsius= 35\n",
        "celsius_to_fahrenheit= (celsius* 9/5) + 32\n",
        "print(celsius_to_fahrenheit)"
      ],
      "metadata": {
        "colab": {
          "base_uri": "https://localhost:8080/"
        },
        "id": "VbSnPnfoUEhU",
        "outputId": "ed56645a-ca94-4716-9c97-bb84c02758d6"
      },
      "execution_count": null,
      "outputs": [
        {
          "output_type": "stream",
          "name": "stdout",
          "text": [
            "95.0\n"
          ]
        }
      ]
    },
    {
      "cell_type": "code",
      "source": [
        "fahrenheit= 100\n",
        "fahrenheit_to_celsius= (fahrenheit-32) * 5/9\n",
        "print(fahrenheit_to_celsius)"
      ],
      "metadata": {
        "colab": {
          "base_uri": "https://localhost:8080/"
        },
        "id": "7xkMWoioVqfU",
        "outputId": "e3135b95-259e-49e0-dfc2-6fa762fb2844"
      },
      "execution_count": null,
      "outputs": [
        {
          "output_type": "stream",
          "name": "stdout",
          "text": [
            "37.77777777777778\n"
          ]
        }
      ]
    },
    {
      "cell_type": "code",
      "source": [
        "miles= 50\n",
        "miles_to_kilometers= miles*1.60934\n",
        "print(miles_to_kilometers)"
      ],
      "metadata": {
        "colab": {
          "base_uri": "https://localhost:8080/"
        },
        "id": "8NuPRkbAWIpe",
        "outputId": "54e96b26-0b57-4dda-f27d-3260ee5ae9dd"
      },
      "execution_count": null,
      "outputs": [
        {
          "output_type": "stream",
          "name": "stdout",
          "text": [
            "80.467\n"
          ]
        }
      ]
    }
  ]
}